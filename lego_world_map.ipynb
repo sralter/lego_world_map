{
 "cells": [
  {
   "cell_type": "markdown",
   "id": "c0774c51-9a5b-4201-bf9f-88caa54ee827",
   "metadata": {},
   "source": [
    "# Lego World Map"
   ]
  },
  {
   "cell_type": "markdown",
   "id": "c4b6959c-a6a4-4cf7-b8cd-63f835a73df3",
   "metadata": {},
   "source": [
    "Code inspired from Milan Janosov to create a stylized elevation map of the world.\n",
    "\n",
    "You can read about his work creating a Lego elevation map of Budapest [here](https://open.substack.com/pub/milanjanosov/p/lego-elevation-map?r=3mp6w8&utm_medium=ios) on his Substack."
   ]
  },
  {
   "cell_type": "markdown",
   "id": "8fa93d4f-85b7-4614-a32a-2fc7d11df830",
   "metadata": {},
   "source": [
    "## Imports"
   ]
  },
  {
   "cell_type": "code",
   "execution_count": 30,
   "id": "f5d2862e-2ae2-4ab1-b05e-01a8b2482b89",
   "metadata": {},
   "outputs": [],
   "source": [
    "import geopandas as gpd\n",
    "import matplotlib.pyplot as plt\n",
    "from rasterio.plot import show\n",
    "from rasterio.merge import merge\n",
    "import rasterio as rio\n",
    "from rasterio.io import MemoryFile\n",
    "from rasterio.enums import Resampling\n",
    "import sys\n",
    "import subprocess\n",
    "import glob\n",
    "import string\n",
    "from osgeo import gdal\n",
    "from pathlib import Path\n",
    "import os"
   ]
  },
  {
   "cell_type": "markdown",
   "id": "82805713-5831-4d68-b4bc-b01329710d76",
   "metadata": {},
   "source": [
    "DEM Raster data sourced from here:\n",
    "\n",
    "https://earthexplorer.usgs.gov"
   ]
  },
  {
   "cell_type": "markdown",
   "id": "f1bc9af8-e8c5-4be6-8ef7-af112399103c",
   "metadata": {},
   "source": [
    "We'll be merging the elevation files following the example from Abdishakur:\n",
    "https://medium.com/spatial-data-science/how-to-mosaic-merge-raster-data-in-python-fb18e44f3c8"
   ]
  },
  {
   "cell_type": "markdown",
   "id": "0ce878f0-71c5-459d-b352-25a69d1a3712",
   "metadata": {},
   "source": [
    "## Merge DEMs"
   ]
  },
  {
   "cell_type": "code",
   "execution_count": null,
   "id": "c8dcbadf-eb02-428c-82ee-f5f56d28d22e",
   "metadata": {},
   "outputs": [],
   "source": [
    "# setup paths\n",
    "path=Path('../_data/dem_world_gtopo30')\n",
    "Path('output').mkdir(parents=True,exist_ok=True)\n",
    "output_path='output/mosaic_output.tif'"
   ]
  },
  {
   "cell_type": "code",
   "execution_count": 10,
   "id": "42674890-8402-4b8b-bd4f-ee19f349d6bb",
   "metadata": {},
   "outputs": [],
   "source": [
    "# iterate over the available .tif files in the data folder\n",
    "raster_files=list(path.iterdir())\n",
    "\n",
    "# create list to hold files in data folder\n",
    "raster_to_mosaic=[]"
   ]
  },
  {
   "cell_type": "code",
   "execution_count": 11,
   "id": "ddd1ae4d-9754-4730-818a-873f17264c55",
   "metadata": {},
   "outputs": [
    {
     "name": "stdout",
     "output_type": "stream",
     "text": [
      "Gone through 5 files\n",
      "Gone through 10 files\n",
      "Gone through 15 files\n",
      "Gone through 20 files\n",
      "Gone through 25 files\n",
      "Gone through 30 files\n",
      "Done!\n"
     ]
    }
   ],
   "source": [
    "# loop through raster files and add them to raster_to_mosaic list\n",
    "counter=0\n",
    "for file in raster_files:\n",
    "    raster=rio.open(file)\n",
    "    raster_to_mosaic.append(raster)\n",
    "    counter+=1\n",
    "    if counter%5==0:\n",
    "        print(f'Gone through {counter} files')\n",
    "\n",
    "print('Done!')"
   ]
  },
  {
   "cell_type": "code",
   "execution_count": 12,
   "id": "d1e8d471-6d65-41b9-9413-f746ba2f1bc2",
   "metadata": {},
   "outputs": [
    {
     "data": {
      "text/plain": [
       "33"
      ]
     },
     "execution_count": 12,
     "metadata": {},
     "output_type": "execute_result"
    }
   ],
   "source": [
    "len(raster_to_mosaic)"
   ]
  },
  {
   "cell_type": "code",
   "execution_count": null,
   "id": "db751ca6-6449-40d6-8576-40e1c1852767",
   "metadata": {},
   "outputs": [],
   "source": [
    "mosaic,output=merge(raster_to_mosaic)"
   ]
  },
  {
   "cell_type": "code",
   "execution_count": null,
   "id": "5c960347-7797-4604-89ce-8b630dced1be",
   "metadata": {},
   "outputs": [],
   "source": [
    "# batch the merging process\n",
    "batch_size=5\n",
    "batches=[raster_to_mosaic[i:i+batch_size] for i in range(0,len(raster_to_mosaic),batch_size)]\n",
    "\n",
    "batch_mosaics=[]\n",
    "\n",
    "for i,batch in enumerate(batches):\n",
    "    mosaic,out_trans=merge(batch)\n",
    "    \n",
    "    # save each batch mosaic in memory and add to list for final merge\n",
    "    with MemoryFile() as memfile:\n",
    "        with memfile.open(driver='GTiff',\n",
    "                          height=mosaic.shape[1],\n",
    "                          width=mosaic.shape[2],\n",
    "                          count=1,\n",
    "                          dtype=mosaic.dtype) as mem_dst:\n",
    "            mem_dst.write(mosaic,1)\n",
    "            batch_mosaics.append(mem_dst)  # add memory file object to list\n",
    "\n",
    "    print(f'Batch {i+1} complete')\n",
    "\n",
    "# merge all batch mosaics\n",
    "final_mosaic, final_transform = merge(batch_mosaics)"
   ]
  },
  {
   "cell_type": "code",
   "execution_count": null,
   "id": "fd0cd19d-dea5-44fc-968d-a1ee364bdc10",
   "metadata": {},
   "outputs": [],
   "source": [
    "# downsampling control\n",
    "downsample_factor=2  # 2 will reduce both width and height by half\n",
    "\n",
    "for i,file in enumerate(raster_files):\n",
    "    with rio.open(file) as dataset:\n",
    "        # Read with resampling\n",
    "        data=dataset.read(\n",
    "            out_shape=(\n",
    "                dataset.count,\n",
    "                int(dataset.height/downsample_factor),\n",
    "                int(dataset.width/downsample_factor)\n",
    "            ),\n",
    "            resampling=Resampling.average # different methods are available\n",
    "        )\n",
    "        \n",
    "        # update transform for downsampling\n",
    "        transform=dataset.transform*dataset.transform.scale(\n",
    "            (dataset.width/data.shape[-1]),\n",
    "            (dataset.height/data.shape[-2])\n",
    "        )\n",
    "        \n",
    "        # save downsampled raster temporarily\n",
    "        with MemoryFile() as memfile:\n",
    "            with memfile.open(\n",
    "                driver='GTiff',\n",
    "                height=data.shape[1],\n",
    "                width=data.shape[2],\n",
    "                count=1,\n",
    "                dtype=data.dtype,\n",
    "                transform=transform\n",
    "            ) as mem_dst:\n",
    "                mem_dst.write(data,1)\n",
    "                raster_to_mosaic.append(mem_dst)\n",
    "                \n",
    "    print(f'Downsampled and added file {i+1}')"
   ]
  },
  {
   "cell_type": "code",
   "execution_count": null,
   "id": "8ceb8b8f-0def-4632-93af-420aec98d0b5",
   "metadata": {},
   "outputs": [],
   "source": [
    "# batch the merging process\n",
    "batch_size=4\n",
    "batches=[raster_to_mosaic[i:i+batch_size] for i in range(0,len(raster_to_mosaic),batch_size)]\n",
    "\n",
    "# directory to store intermediate batch files\n",
    "Path('intermediate_batches').mkdir(exist_ok=True)\n",
    "batch_files=[]\n",
    "\n",
    "for i, batch in enumerate(batches):\n",
    "    mosaic,out_trans=merge(batch)\n",
    "    batch_file_path=f'intermediate_batches/batch_{i}.tif'\n",
    "    \n",
    "    # save each batch result as a new file on disk\n",
    "    with rasterio.open(\n",
    "        batch_file_path,\n",
    "        'w',\n",
    "        driver='GTiff',\n",
    "        height=mosaic.shape[1],\n",
    "        width=mosaic.shape[2],\n",
    "        count=1,\n",
    "        dtype=mosaic.dtype,\n",
    "        transform=out_trans\n",
    "    ) as dst:\n",
    "        dst.write(mosaic,1)\n",
    "    \n",
    "    batch_files.append(batch_file_path)\n",
    "    print(f'Saved batch {i+1} as {batch_file_path}')\n",
    "\n",
    "# merge saved intermediate files into final mosaic\n",
    "raster_to_mosaic=[rasterio.open(file) for file in batch_files]\n",
    "final_mosaic,final_transform=merge(raster_to_mosaic)"
   ]
  },
  {
   "cell_type": "code",
   "execution_count": 54,
   "id": "8eeb1024-c89d-4a7a-b334-a260f67e5e3f",
   "metadata": {},
   "outputs": [
    {
     "name": "stdout",
     "output_type": "stream",
     "text": [
      "Traceback (most recent call last):\n",
      "  File \"/Applications/Anaconda/anaconda3/lib/python3.9/site-packages/osgeo/__init__.py\", line 30, in swig_import_helper\n",
      "    return importlib.import_module(mname)\n",
      "  File \"/Applications/Anaconda/anaconda3/lib/python3.9/importlib/__init__.py\", line 127, in import_module\n",
      "    return _bootstrap._gcd_import(name[level:], package, level)\n",
      "  File \"<frozen importlib._bootstrap>\", line 1030, in _gcd_import\n",
      "  File \"<frozen importlib._bootstrap>\", line 1007, in _find_and_load\n",
      "  File \"<frozen importlib._bootstrap>\", line 986, in _find_and_load_unlocked\n",
      "  File \"<frozen importlib._bootstrap>\", line 666, in _load_unlocked\n",
      "  File \"<frozen importlib._bootstrap>\", line 565, in module_from_spec\n",
      "  File \"<frozen importlib._bootstrap_external>\", line 1173, in create_module\n",
      "  File \"<frozen importlib._bootstrap>\", line 228, in _call_with_frames_removed\n",
      "ImportError: dlopen(/Applications/Anaconda/anaconda3/lib/python3.9/site-packages/osgeo/_gdal.cpython-39-darwin.so, 0x0002): Library not loaded: @rpath/libtiff.5.dylib\n",
      "  Referenced from: <6C3EA127-A5C5-336C-9074-979EE3DACC52> /Applications/Anaconda/anaconda3/lib/libpoppler.126.0.0.dylib\n",
      "  Reason: tried: '/Applications/Anaconda/anaconda3/lib/libtiff.5.dylib' (no such file), '/Applications/Anaconda/anaconda3/lib/libtiff.5.dylib' (no such file), '/Applications/Anaconda/anaconda3/lib/python3.9/site-packages/osgeo/../../../libtiff.5.dylib' (no such file), '/Applications/Anaconda/anaconda3/lib/python3.9/site-packages/osgeo/../../../libtiff.5.dylib' (no such file), '/Applications/Anaconda/anaconda3/bin/../lib/libtiff.5.dylib' (no such file), '/Applications/Anaconda/anaconda3/bin/../lib/libtiff.5.dylib' (no such file), '/usr/local/lib/libtiff.5.dylib' (no such file), '/usr/lib/libtiff.5.dylib' (no such file, not in dyld cache)\n",
      "\n",
      "During handling of the above exception, another exception occurred:\n",
      "\n",
      "Traceback (most recent call last):\n",
      "  File \"/Applications/Anaconda/anaconda3/bin/gdal_merge.py\", line 5, in <module>\n",
      "    from osgeo.gdal import deprecation_warn\n",
      "  File \"/Applications/Anaconda/anaconda3/lib/python3.9/site-packages/osgeo/__init__.py\", line 46, in <module>\n",
      "    _gdal = swig_import_helper()\n",
      "  File \"/Applications/Anaconda/anaconda3/lib/python3.9/site-packages/osgeo/__init__.py\", line 43, in swig_import_helper\n",
      "    return importlib.import_module('_gdal')\n",
      "  File \"/Applications/Anaconda/anaconda3/lib/python3.9/importlib/__init__.py\", line 127, in import_module\n",
      "    return _bootstrap._gcd_import(name[level:], package, level)\n",
      "ModuleNotFoundError: No module named '_gdal'\n"
     ]
    }
   ],
   "source": [
    "!gdal_merge.py -o final_mosaic_output.tif -of GTiff -co COMPRESS=LZW -co BIGTIFF=YES *.tif"
   ]
  },
  {
   "cell_type": "code",
   "execution_count": 14,
   "id": "b78814d9-e200-4764-a0b0-84467fd851fd",
   "metadata": {},
   "outputs": [
    {
     "data": {
      "text/plain": [
       "[<open DatasetReader name='../_data/dem_world_gtopo30/gt30w060s60.tif' mode='r'>,\n",
       " <open DatasetReader name='../_data/dem_world_gtopo30/gt30e060s10.tif' mode='r'>,\n",
       " <open DatasetReader name='../_data/dem_world_gtopo30/gt30w140s10.tif' mode='r'>,\n",
       " <open DatasetReader name='../_data/dem_world_gtopo30/gt30w020n90.tif' mode='r'>,\n",
       " <open DatasetReader name='../_data/dem_world_gtopo30/gt30e100n90.tif' mode='r'>,\n",
       " <open DatasetReader name='../_data/dem_world_gtopo30/gt30w020n40.tif' mode='r'>,\n",
       " <open DatasetReader name='../_data/dem_world_gtopo30/gt30e100n40.tif' mode='r'>,\n",
       " <open DatasetReader name='../_data/dem_world_gtopo30/gt30e020n40.tif' mode='r'>,\n",
       " <open DatasetReader name='../_data/dem_world_gtopo30/gt30w100n40.tif' mode='r'>,\n",
       " <open DatasetReader name='../_data/dem_world_gtopo30/gt30w180n90.tif' mode='r'>,\n",
       " <open DatasetReader name='../_data/dem_world_gtopo30/gt30w180n40.tif' mode='r'>,\n",
       " <open DatasetReader name='../_data/dem_world_gtopo30/gt30e060s60.tif' mode='r'>,\n",
       " <open DatasetReader name='../_data/dem_world_gtopo30/gt30e020n90.tif' mode='r'>,\n",
       " <open DatasetReader name='../_data/dem_world_gtopo30/gt30w100n90.tif' mode='r'>,\n",
       " <open DatasetReader name='../_data/dem_world_gtopo30/gt30w060s10.tif' mode='r'>,\n",
       " <open DatasetReader name='../_data/dem_world_gtopo30/gt30e140s10.tif' mode='r'>,\n",
       " <open DatasetReader name='../_data/dem_world_gtopo30/gt30w180s60.tif' mode='r'>,\n",
       " <open DatasetReader name='../_data/dem_world_gtopo30/gt30w140n40.tif' mode='r'>,\n",
       " <open DatasetReader name='../_data/dem_world_gtopo30/gt30e060n40.tif' mode='r'>,\n",
       " <open DatasetReader name='../_data/dem_world_gtopo30/gt30w140n90.tif' mode='r'>,\n",
       " <open DatasetReader name='../_data/dem_world_gtopo30/gt30e060n90.tif' mode='r'>,\n",
       " <open DatasetReader name='../_data/dem_world_gtopo30/gt30e100s10.tif' mode='r'>,\n",
       " <open DatasetReader name='../_data/dem_world_gtopo30/gt30w020s10.tif' mode='r'>,\n",
       " <open DatasetReader name='../_data/dem_world_gtopo30/gt30e120s60.tif' mode='r'>,\n",
       " <open DatasetReader name='../_data/dem_world_gtopo30/gt30w000s60.tif' mode='r'>,\n",
       " <open DatasetReader name='../_data/dem_world_gtopo30/gt30w100s10.tif' mode='r'>,\n",
       " <open DatasetReader name='../_data/dem_world_gtopo30/gt30e020s10.tif' mode='r'>,\n",
       " <open DatasetReader name='../_data/dem_world_gtopo30/gt30e140n90.tif' mode='r'>,\n",
       " <open DatasetReader name='../_data/dem_world_gtopo30/gt30w060n90.tif' mode='r'>,\n",
       " <open DatasetReader name='../_data/dem_world_gtopo30/gt30w120s60.tif' mode='r'>,\n",
       " <open DatasetReader name='../_data/dem_world_gtopo30/gt30w180s10.tif' mode='r'>,\n",
       " <open DatasetReader name='../_data/dem_world_gtopo30/gt30e140n40.tif' mode='r'>,\n",
       " <open DatasetReader name='../_data/dem_world_gtopo30/gt30w060n40.tif' mode='r'>]"
      ]
     },
     "execution_count": 14,
     "metadata": {},
     "output_type": "execute_result"
    }
   ],
   "source": [
    "raster_to_mosaic"
   ]
  },
  {
   "cell_type": "code",
   "execution_count": 18,
   "id": "92087031-d056-4f78-9873-9d030b9ac4c0",
   "metadata": {},
   "outputs": [
    {
     "data": {
      "text/plain": [
       "['gt30w060s60.tif',\n",
       " 'gt30e060s10.tif',\n",
       " 'gt30w140s10.tif',\n",
       " 'gt30w020n90.tif',\n",
       " 'gt30e100n90.tif',\n",
       " 'gt30w020n40.tif',\n",
       " 'gt30e100n40.tif',\n",
       " 'gt30e020n40.tif',\n",
       " 'gt30w100n40.tif',\n",
       " 'gt30w180n90.tif',\n",
       " 'gt30w180n40.tif',\n",
       " 'gt30e060s60.tif',\n",
       " 'gt30e020n90.tif',\n",
       " 'gt30w100n90.tif',\n",
       " 'gt30w060s10.tif',\n",
       " 'gt30e140s10.tif',\n",
       " 'gt30w180s60.tif',\n",
       " 'gt30w140n40.tif',\n",
       " 'gt30e060n40.tif',\n",
       " 'gt30w140n90.tif',\n",
       " 'gt30e060n90.tif',\n",
       " 'gt30e100s10.tif',\n",
       " 'gt30w020s10.tif',\n",
       " 'gt30e120s60.tif',\n",
       " 'gt30w000s60.tif',\n",
       " 'gt30w100s10.tif',\n",
       " 'gt30e020s10.tif',\n",
       " 'gt30e140n90.tif',\n",
       " 'gt30w060n90.tif',\n",
       " 'gt30w120s60.tif',\n",
       " 'gt30w180s10.tif',\n",
       " 'gt30e140n40.tif',\n",
       " 'gt30w060n40.tif']"
      ]
     },
     "execution_count": 18,
     "metadata": {},
     "output_type": "execute_result"
    }
   ],
   "source": [
    "path=Path('../_data/dem_world_gtopo30')\n",
    "file_list=os.listdir(path)\n",
    "file_list"
   ]
  },
  {
   "cell_type": "code",
   "execution_count": 19,
   "id": "48ae6ef1-495e-484e-8f57-8c7c4a4cea3c",
   "metadata": {},
   "outputs": [
    {
     "data": {
      "text/plain": [
       "33"
      ]
     },
     "execution_count": 19,
     "metadata": {},
     "output_type": "execute_result"
    }
   ],
   "source": [
    "len(file_list)"
   ]
  },
  {
   "cell_type": "code",
   "execution_count": 24,
   "id": "cbf0bcfb-1010-4082-96c7-e0de9163b4f3",
   "metadata": {},
   "outputs": [
    {
     "name": "stdout",
     "output_type": "stream",
     "text": [
      "Merging the DEMM files...\n",
      "['../_data/dem_world_gtopo30/gt30w060s60.tif', '../_data/dem_world_gtopo30/gt30e060s10.tif', '../_data/dem_world_gtopo30/gt30w140s10.tif', '../_data/dem_world_gtopo30/gt30w020n90.tif', '../_data/dem_world_gtopo30/gt30e100n90.tif', '../_data/dem_world_gtopo30/gt30w020n40.tif', '../_data/dem_world_gtopo30/gt30e100n40.tif', '../_data/dem_world_gtopo30/gt30e020n40.tif', '../_data/dem_world_gtopo30/gt30w100n40.tif', '../_data/dem_world_gtopo30/gt30w180n90.tif', '../_data/dem_world_gtopo30/gt30w180n40.tif', '../_data/dem_world_gtopo30/gt30e060s60.tif', '../_data/dem_world_gtopo30/gt30e020n90.tif', '../_data/dem_world_gtopo30/gt30w100n90.tif', '../_data/dem_world_gtopo30/gt30w060s10.tif', '../_data/dem_world_gtopo30/gt30e140s10.tif', '../_data/dem_world_gtopo30/gt30w180s60.tif', '../_data/dem_world_gtopo30/gt30w140n40.tif', '../_data/dem_world_gtopo30/gt30e060n40.tif', '../_data/dem_world_gtopo30/gt30w140n90.tif', '../_data/dem_world_gtopo30/gt30e060n90.tif', '../_data/dem_world_gtopo30/gt30e100s10.tif', '../_data/dem_world_gtopo30/gt30w020s10.tif', '../_data/dem_world_gtopo30/gt30e120s60.tif', '../_data/dem_world_gtopo30/gt30w000s60.tif', '../_data/dem_world_gtopo30/gt30w100s10.tif', '../_data/dem_world_gtopo30/gt30e020s10.tif', '../_data/dem_world_gtopo30/gt30e140n90.tif', '../_data/dem_world_gtopo30/gt30w060n90.tif', '../_data/dem_world_gtopo30/gt30w120s60.tif', '../_data/dem_world_gtopo30/gt30w180s10.tif', '../_data/dem_world_gtopo30/gt30e140n40.tif', '../_data/dem_world_gtopo30/gt30w060n40.tif']\n"
     ]
    }
   ],
   "source": [
    "# from https://gis.stackexchange.com/questions/449569/\\\n",
    "# merging-a-large-number-of-geotiff-files-via-gdal-merge-py\n",
    "\n",
    "print('Merging the DEMM files...')\n",
    "\n",
    "# Find all files with a .tif extension\n",
    "input_files = glob.glob('../_data/dem_tile_world_gtopo30/*.tif')\n",
    "print(input_files)"
   ]
  },
  {
   "cell_type": "code",
   "execution_count": 25,
   "id": "1f83ff6c-7a62-4ee3-8e91-37b38a6d59b7",
   "metadata": {},
   "outputs": [],
   "source": [
    "# Define the output file\n",
    "output_file = \"dem_world_gtopo30.tiff\"\n",
    "\n",
    "# Create a dictionary to store the original file names as keys and new short file names as values\n",
    "original_names = {}\n",
    "\n",
    "# Create list of characters (numbers and letters) to use for unique file names\n",
    "characters = string.digits + string.ascii_letters\n",
    "j = 0\n",
    "# Rename all the files in the current directory to have unique short names of 2 characters\n",
    "for i, file in enumerate(input_files):\n",
    "    new_name = ''.join(characters[i%len(characters)] + characters[i//len(characters)] + \".t\")\n",
    "    # Check if the new name already exists, ignoring the case\n",
    "    while os.path.exists(new_name) or new_name.lower() in [f.lower() for f in os.listdir()]:\n",
    "        i += 1\n",
    "        new_name = ''.join(characters[i%len(characters)] + characters[i//len(characters)] + \".t\")\n",
    "    os.rename(file, new_name)\n",
    "    original_names[new_name] = file\n",
    "    input_files[j] = new_name\n",
    "    j += 1\n",
    "\n",
    "input_string = \" \".join(input_files)\n",
    "\n",
    "#Build VRT from input files \n",
    "vrt_file = \"merged.vrt\"\n",
    "gdal.BuildVRT(vrt_file,input_files)\n",
    "\n",
    "# Translate VRT to TIFF\n",
    "gdal.Translate(output_file,vrt_file)\n",
    "\n",
    "# Rename the files back to their original names\n",
    "for new_name, original_name in original_names.items():\n",
    "    os.rename(new_name, original_name)\n",
    "\n",
    "# remove the vrt file\n",
    "os.remove(vrt_file)"
   ]
  },
  {
   "cell_type": "code",
   "execution_count": 29,
   "id": "72fe8196-ca54-4e2b-8b44-cdbeea83c7c7",
   "metadata": {},
   "outputs": [
    {
     "data": {
      "image/png": "[encoded data removed]",
      "text/plain": [
       "<Figure size 640x480 with 1 Axes>"
      ]
     },
     "metadata": {},
     "output_type": "display_data"
    },
    {
     "data": {
      "text/plain": [
       "<Axes: >"
      ]
     },
     "execution_count": 29,
     "metadata": {},
     "output_type": "execute_result"
    }
   ],
   "source": [
    "fp=r'../_data/dem_world_gtopo30.tiff'\n",
    "img=rio.open(fp)\n",
    "show(img)"
   ]
  },
  {
   "cell_type": "code",
   "execution_count": null,
   "id": "9f0dccb3-a28f-4b19-b88a-ae13974643ef",
   "metadata": {},
   "outputs": [],
   "source": []
  },
  {
   "cell_type": "code",
   "execution_count": null,
   "id": "29cfaaa5-5f69-4404-bf90-775077cc0f23",
   "metadata": {},
   "outputs": [],
   "source": []
  },
  {
   "cell_type": "markdown",
   "id": "c508f01e-be47-42e9-9298-ea258280b05d",
   "metadata": {},
   "source": [
    "## Old"
   ]
  },
  {
   "cell_type": "code",
   "execution_count": 4,
   "id": "e385c965-e4a0-489a-b31d-68fc6ff590d1",
   "metadata": {},
   "outputs": [
    {
     "name": "stdout",
     "output_type": "stream",
     "text": [
      "177\n"
     ]
    },
    {
     "data": {
      "text/html": [
       "<div>\n",
       "<style scoped>\n",
       "    .dataframe tbody tr th:only-of-type {\n",
       "        vertical-align: middle;\n",
       "    }\n",
       "\n",
       "    .dataframe tbody tr th {\n",
       "        vertical-align: top;\n",
       "    }\n",
       "\n",
       "    .dataframe thead th {\n",
       "        text-align: right;\n",
       "    }\n",
       "</style>\n",
       "<table border=\"1\" class=\"dataframe\">\n",
       "  <thead>\n",
       "    <tr style=\"text-align: right;\">\n",
       "      <th></th>\n",
       "      <th>featurecla</th>\n",
       "      <th>scalerank</th>\n",
       "      <th>labelrank</th>\n",
       "      <th>sovereignt</th>\n",
       "      <th>sov_a3</th>\n",
       "      <th>adm0_dif</th>\n",
       "      <th>level</th>\n",
       "      <th>type</th>\n",
       "      <th>tlc</th>\n",
       "      <th>admin</th>\n",
       "      <th>...</th>\n",
       "      <th>fclass_id</th>\n",
       "      <th>fclass_pl</th>\n",
       "      <th>fclass_gr</th>\n",
       "      <th>fclass_it</th>\n",
       "      <th>fclass_nl</th>\n",
       "      <th>fclass_se</th>\n",
       "      <th>fclass_bd</th>\n",
       "      <th>fclass_ua</th>\n",
       "      <th>filename</th>\n",
       "      <th>geometry</th>\n",
       "    </tr>\n",
       "  </thead>\n",
       "  <tbody>\n",
       "    <tr>\n",
       "      <th>0</th>\n",
       "      <td>Admin-0 country</td>\n",
       "      <td>1</td>\n",
       "      <td>5</td>\n",
       "      <td>Costa Rica</td>\n",
       "      <td>CRI</td>\n",
       "      <td>0</td>\n",
       "      <td>2</td>\n",
       "      <td>Sovereign country</td>\n",
       "      <td>1</td>\n",
       "      <td>Costa Rica</td>\n",
       "      <td>...</td>\n",
       "      <td>NaN</td>\n",
       "      <td>NaN</td>\n",
       "      <td>NaN</td>\n",
       "      <td>NaN</td>\n",
       "      <td>NaN</td>\n",
       "      <td>NaN</td>\n",
       "      <td>NaN</td>\n",
       "      <td>NaN</td>\n",
       "      <td>CRI.geojson</td>\n",
       "      <td>POLYGON ((-82.54620 9.56613, -82.93289 9.47681...</td>\n",
       "    </tr>\n",
       "    <tr>\n",
       "      <th>1</th>\n",
       "      <td>Admin-0 country</td>\n",
       "      <td>1</td>\n",
       "      <td>5</td>\n",
       "      <td>Nicaragua</td>\n",
       "      <td>NIC</td>\n",
       "      <td>0</td>\n",
       "      <td>2</td>\n",
       "      <td>Sovereign country</td>\n",
       "      <td>1</td>\n",
       "      <td>Nicaragua</td>\n",
       "      <td>...</td>\n",
       "      <td>NaN</td>\n",
       "      <td>NaN</td>\n",
       "      <td>NaN</td>\n",
       "      <td>NaN</td>\n",
       "      <td>NaN</td>\n",
       "      <td>NaN</td>\n",
       "      <td>NaN</td>\n",
       "      <td>NaN</td>\n",
       "      <td>NIC.geojson</td>\n",
       "      <td>POLYGON ((-83.65561 10.93876, -83.89505 10.726...</td>\n",
       "    </tr>\n",
       "    <tr>\n",
       "      <th>2</th>\n",
       "      <td>Admin-0 country</td>\n",
       "      <td>1</td>\n",
       "      <td>5</td>\n",
       "      <td>Haiti</td>\n",
       "      <td>HTI</td>\n",
       "      <td>0</td>\n",
       "      <td>2</td>\n",
       "      <td>Sovereign country</td>\n",
       "      <td>1</td>\n",
       "      <td>Haiti</td>\n",
       "      <td>...</td>\n",
       "      <td>NaN</td>\n",
       "      <td>NaN</td>\n",
       "      <td>NaN</td>\n",
       "      <td>NaN</td>\n",
       "      <td>NaN</td>\n",
       "      <td>NaN</td>\n",
       "      <td>NaN</td>\n",
       "      <td>NaN</td>\n",
       "      <td>HTI.geojson</td>\n",
       "      <td>POLYGON ((-71.71236 19.71446, -71.62487 19.169...</td>\n",
       "    </tr>\n",
       "    <tr>\n",
       "      <th>3</th>\n",
       "      <td>Admin-0 country</td>\n",
       "      <td>1</td>\n",
       "      <td>5</td>\n",
       "      <td>Dominican Republic</td>\n",
       "      <td>DOM</td>\n",
       "      <td>0</td>\n",
       "      <td>2</td>\n",
       "      <td>Sovereign country</td>\n",
       "      <td>1</td>\n",
       "      <td>Dominican Republic</td>\n",
       "      <td>...</td>\n",
       "      <td>NaN</td>\n",
       "      <td>NaN</td>\n",
       "      <td>NaN</td>\n",
       "      <td>NaN</td>\n",
       "      <td>NaN</td>\n",
       "      <td>NaN</td>\n",
       "      <td>NaN</td>\n",
       "      <td>NaN</td>\n",
       "      <td>DOM.geojson</td>\n",
       "      <td>POLYGON ((-71.70830 18.04500, -71.68774 18.316...</td>\n",
       "    </tr>\n",
       "    <tr>\n",
       "      <th>4</th>\n",
       "      <td>Admin-0 country</td>\n",
       "      <td>1</td>\n",
       "      <td>6</td>\n",
       "      <td>El Salvador</td>\n",
       "      <td>SLV</td>\n",
       "      <td>0</td>\n",
       "      <td>2</td>\n",
       "      <td>Sovereign country</td>\n",
       "      <td>1</td>\n",
       "      <td>El Salvador</td>\n",
       "      <td>...</td>\n",
       "      <td>NaN</td>\n",
       "      <td>NaN</td>\n",
       "      <td>NaN</td>\n",
       "      <td>NaN</td>\n",
       "      <td>NaN</td>\n",
       "      <td>NaN</td>\n",
       "      <td>NaN</td>\n",
       "      <td>NaN</td>\n",
       "      <td>SLV.geojson</td>\n",
       "      <td>POLYGON ((-89.35333 14.42413, -89.05851 14.340...</td>\n",
       "    </tr>\n",
       "  </tbody>\n",
       "</table>\n",
       "<p>5 rows × 170 columns</p>\n",
       "</div>"
      ],
      "text/plain": [
       "        featurecla  scalerank  labelrank          sovereignt sov_a3  adm0_dif  \\\n",
       "0  Admin-0 country          1          5          Costa Rica    CRI         0   \n",
       "1  Admin-0 country          1          5           Nicaragua    NIC         0   \n",
       "2  Admin-0 country          1          5               Haiti    HTI         0   \n",
       "3  Admin-0 country          1          5  Dominican Republic    DOM         0   \n",
       "4  Admin-0 country          1          6         El Salvador    SLV         0   \n",
       "\n",
       "   level               type tlc               admin  ... fclass_id  fclass_pl  \\\n",
       "0      2  Sovereign country   1          Costa Rica  ...       NaN        NaN   \n",
       "1      2  Sovereign country   1           Nicaragua  ...       NaN        NaN   \n",
       "2      2  Sovereign country   1               Haiti  ...       NaN        NaN   \n",
       "3      2  Sovereign country   1  Dominican Republic  ...       NaN        NaN   \n",
       "4      2  Sovereign country   1         El Salvador  ...       NaN        NaN   \n",
       "\n",
       "  fclass_gr fclass_it  fclass_nl fclass_se fclass_bd  fclass_ua     filename  \\\n",
       "0       NaN       NaN        NaN       NaN       NaN        NaN  CRI.geojson   \n",
       "1       NaN       NaN        NaN       NaN       NaN        NaN  NIC.geojson   \n",
       "2       NaN       NaN        NaN       NaN       NaN        NaN  HTI.geojson   \n",
       "3       NaN       NaN        NaN       NaN       NaN        NaN  DOM.geojson   \n",
       "4       NaN       NaN        NaN       NaN       NaN        NaN  SLV.geojson   \n",
       "\n",
       "                                            geometry  \n",
       "0  POLYGON ((-82.54620 9.56613, -82.93289 9.47681...  \n",
       "1  POLYGON ((-83.65561 10.93876, -83.89505 10.726...  \n",
       "2  POLYGON ((-71.71236 19.71446, -71.62487 19.169...  \n",
       "3  POLYGON ((-71.70830 18.04500, -71.68774 18.316...  \n",
       "4  POLYGON ((-89.35333 14.42413, -89.05851 14.340...  \n",
       "\n",
       "[5 rows x 170 columns]"
      ]
     },
     "execution_count": 4,
     "metadata": {},
     "output_type": "execute_result"
    }
   ],
   "source": [
    "# import elevation file\n",
    "gdf=gpd.read_file('../_data/world_elevation_custom.json')\n",
    "\n",
    "print(len(gdf))\n",
    "gdf.head()"
   ]
  },
  {
   "cell_type": "code",
   "execution_count": 7,
   "id": "10d0c477-5105-4071-80f7-24618d4c6e4e",
   "metadata": {},
   "outputs": [
    {
     "data": {
      "text/plain": [
       "Index(['featurecla', 'scalerank', 'labelrank', 'sovereignt', 'sov_a3',\n",
       "       'adm0_dif', 'level', 'type', 'tlc', 'admin',\n",
       "       ...\n",
       "       'fclass_id', 'fclass_pl', 'fclass_gr', 'fclass_it', 'fclass_nl',\n",
       "       'fclass_se', 'fclass_bd', 'fclass_ua', 'filename', 'geometry'],\n",
       "      dtype='object', length=170)"
      ]
     },
     "execution_count": 7,
     "metadata": {},
     "output_type": "execute_result"
    }
   ],
   "source": [
    "gdf.columns"
   ]
  },
  {
   "cell_type": "code",
   "execution_count": null,
   "id": "87cc9b08-c333-4654-a0fb-3a279fdd4434",
   "metadata": {},
   "outputs": [],
   "source": [
    "gdf['']"
   ]
  },
  {
   "cell_type": "code",
   "execution_count": 6,
   "id": "5c6bf1c2-19d8-4664-8e00-7da23a094b43",
   "metadata": {},
   "outputs": [
    {
     "ename": "KeyError",
     "evalue": "'DN'",
     "output_type": "error",
     "traceback": [
      "\u001b[0;31m---------------------------------------------------------------------------\u001b[0m",
      "\u001b[0;31mKeyError\u001b[0m                                  Traceback (most recent call last)",
      "File \u001b[0;32m/Applications/Anaconda/anaconda3/envs/gis/lib/python3.10/site-packages/pandas/core/indexes/base.py:3790\u001b[0m, in \u001b[0;36mIndex.get_loc\u001b[0;34m(self, key)\u001b[0m\n\u001b[1;32m   3789\u001b[0m \u001b[38;5;28;01mtry\u001b[39;00m:\n\u001b[0;32m-> 3790\u001b[0m     \u001b[38;5;28;01mreturn\u001b[39;00m \u001b[38;5;28;43mself\u001b[39;49m\u001b[38;5;241;43m.\u001b[39;49m\u001b[43m_engine\u001b[49m\u001b[38;5;241;43m.\u001b[39;49m\u001b[43mget_loc\u001b[49m\u001b[43m(\u001b[49m\u001b[43mcasted_key\u001b[49m\u001b[43m)\u001b[49m\n\u001b[1;32m   3791\u001b[0m \u001b[38;5;28;01mexcept\u001b[39;00m \u001b[38;5;167;01mKeyError\u001b[39;00m \u001b[38;5;28;01mas\u001b[39;00m err:\n",
      "File \u001b[0;32mindex.pyx:152\u001b[0m, in \u001b[0;36mpandas._libs.index.IndexEngine.get_loc\u001b[0;34m()\u001b[0m\n",
      "File \u001b[0;32mindex.pyx:181\u001b[0m, in \u001b[0;36mpandas._libs.index.IndexEngine.get_loc\u001b[0;34m()\u001b[0m\n",
      "File \u001b[0;32mpandas/_libs/hashtable_class_helper.pxi:7080\u001b[0m, in \u001b[0;36mpandas._libs.hashtable.PyObjectHashTable.get_item\u001b[0;34m()\u001b[0m\n",
      "File \u001b[0;32mpandas/_libs/hashtable_class_helper.pxi:7088\u001b[0m, in \u001b[0;36mpandas._libs.hashtable.PyObjectHashTable.get_item\u001b[0;34m()\u001b[0m\n",
      "\u001b[0;31mKeyError\u001b[0m: 'DN'",
      "\nThe above exception was the direct cause of the following exception:\n",
      "\u001b[0;31mKeyError\u001b[0m                                  Traceback (most recent call last)",
      "Cell \u001b[0;32mIn[6], line 2\u001b[0m\n\u001b[1;32m      1\u001b[0m f,ax\u001b[38;5;241m=\u001b[39mplt\u001b[38;5;241m.\u001b[39msubplots(\u001b[38;5;241m1\u001b[39m,\u001b[38;5;241m1\u001b[39m,figsize\u001b[38;5;241m=\u001b[39m(\u001b[38;5;241m20\u001b[39m,\u001b[38;5;241m7\u001b[39m))\n\u001b[0;32m----> 2\u001b[0m \u001b[43mgdf\u001b[49m\u001b[38;5;241;43m.\u001b[39;49m\u001b[43mplot\u001b[49m\u001b[43m(\u001b[49m\u001b[43mcolumn\u001b[49m\u001b[38;5;241;43m=\u001b[39;49m\u001b[38;5;124;43m'\u001b[39;49m\u001b[38;5;124;43mDN\u001b[39;49m\u001b[38;5;124;43m'\u001b[39;49m\u001b[43m,\u001b[49m\u001b[43max\u001b[49m\u001b[38;5;241;43m=\u001b[39;49m\u001b[43max\u001b[49m\u001b[43m,\u001b[49m\u001b[43mcmap\u001b[49m\u001b[38;5;241;43m=\u001b[39;49m\u001b[38;5;124;43m'\u001b[39;49m\u001b[38;5;124;43mterrain\u001b[39;49m\u001b[38;5;124;43m'\u001b[39;49m\u001b[43m)\u001b[49m\n",
      "File \u001b[0;32m/Applications/Anaconda/anaconda3/envs/gis/lib/python3.10/site-packages/geopandas/plotting.py:979\u001b[0m, in \u001b[0;36mGeoplotAccessor.__call__\u001b[0;34m(self, *args, **kwargs)\u001b[0m\n\u001b[1;32m    977\u001b[0m kind \u001b[38;5;241m=\u001b[39m kwargs\u001b[38;5;241m.\u001b[39mpop(\u001b[38;5;124m\"\u001b[39m\u001b[38;5;124mkind\u001b[39m\u001b[38;5;124m\"\u001b[39m, \u001b[38;5;124m\"\u001b[39m\u001b[38;5;124mgeo\u001b[39m\u001b[38;5;124m\"\u001b[39m)\n\u001b[1;32m    978\u001b[0m \u001b[38;5;28;01mif\u001b[39;00m kind \u001b[38;5;241m==\u001b[39m \u001b[38;5;124m\"\u001b[39m\u001b[38;5;124mgeo\u001b[39m\u001b[38;5;124m\"\u001b[39m:\n\u001b[0;32m--> 979\u001b[0m     \u001b[38;5;28;01mreturn\u001b[39;00m \u001b[43mplot_dataframe\u001b[49m\u001b[43m(\u001b[49m\u001b[43mdata\u001b[49m\u001b[43m,\u001b[49m\u001b[43m \u001b[49m\u001b[38;5;241;43m*\u001b[39;49m\u001b[43margs\u001b[49m\u001b[43m,\u001b[49m\u001b[43m \u001b[49m\u001b[38;5;241;43m*\u001b[39;49m\u001b[38;5;241;43m*\u001b[39;49m\u001b[43mkwargs\u001b[49m\u001b[43m)\u001b[49m\n\u001b[1;32m    980\u001b[0m \u001b[38;5;28;01mif\u001b[39;00m kind \u001b[38;5;129;01min\u001b[39;00m \u001b[38;5;28mself\u001b[39m\u001b[38;5;241m.\u001b[39m_pandas_kinds:\n\u001b[1;32m    981\u001b[0m     \u001b[38;5;66;03m# Access pandas plots\u001b[39;00m\n\u001b[1;32m    982\u001b[0m     \u001b[38;5;28;01mreturn\u001b[39;00m PlotAccessor(data)(kind\u001b[38;5;241m=\u001b[39mkind, \u001b[38;5;241m*\u001b[39m\u001b[38;5;241m*\u001b[39mkwargs)\n",
      "File \u001b[0;32m/Applications/Anaconda/anaconda3/envs/gis/lib/python3.10/site-packages/geopandas/plotting.py:740\u001b[0m, in \u001b[0;36mplot_dataframe\u001b[0;34m(df, column, cmap, color, ax, cax, categorical, legend, scheme, k, vmin, vmax, markersize, figsize, legend_kwds, categories, classification_kwds, missing_kwds, aspect, **style_kwds)\u001b[0m\n\u001b[1;32m    738\u001b[0m             values \u001b[38;5;241m=\u001b[39m values\u001b[38;5;241m.\u001b[39mreindex(df\u001b[38;5;241m.\u001b[39mindex)\n\u001b[1;32m    739\u001b[0m \u001b[38;5;28;01melse\u001b[39;00m:\n\u001b[0;32m--> 740\u001b[0m     values \u001b[38;5;241m=\u001b[39m \u001b[43mdf\u001b[49m\u001b[43m[\u001b[49m\u001b[43mcolumn\u001b[49m\u001b[43m]\u001b[49m\n\u001b[1;32m    742\u001b[0m \u001b[38;5;28;01mif\u001b[39;00m \u001b[38;5;28misinstance\u001b[39m(values\u001b[38;5;241m.\u001b[39mdtype, CategoricalDtype):\n\u001b[1;32m    743\u001b[0m     \u001b[38;5;28;01mif\u001b[39;00m categories \u001b[38;5;129;01mis\u001b[39;00m \u001b[38;5;129;01mnot\u001b[39;00m \u001b[38;5;28;01mNone\u001b[39;00m:\n",
      "File \u001b[0;32m/Applications/Anaconda/anaconda3/envs/gis/lib/python3.10/site-packages/geopandas/geodataframe.py:1474\u001b[0m, in \u001b[0;36mGeoDataFrame.__getitem__\u001b[0;34m(self, key)\u001b[0m\n\u001b[1;32m   1468\u001b[0m \u001b[38;5;28;01mdef\u001b[39;00m \u001b[38;5;21m__getitem__\u001b[39m(\u001b[38;5;28mself\u001b[39m, key):\n\u001b[1;32m   1469\u001b[0m \u001b[38;5;250m    \u001b[39m\u001b[38;5;124;03m\"\"\"\u001b[39;00m\n\u001b[1;32m   1470\u001b[0m \u001b[38;5;124;03m    If the result is a column containing only 'geometry', return a\u001b[39;00m\n\u001b[1;32m   1471\u001b[0m \u001b[38;5;124;03m    GeoSeries. If it's a DataFrame with any columns of GeometryDtype,\u001b[39;00m\n\u001b[1;32m   1472\u001b[0m \u001b[38;5;124;03m    return a GeoDataFrame.\u001b[39;00m\n\u001b[1;32m   1473\u001b[0m \u001b[38;5;124;03m    \"\"\"\u001b[39;00m\n\u001b[0;32m-> 1474\u001b[0m     result \u001b[38;5;241m=\u001b[39m \u001b[38;5;28;43msuper\u001b[39;49m\u001b[43m(\u001b[49m\u001b[43m)\u001b[49m\u001b[38;5;241;43m.\u001b[39;49m\u001b[38;5;21;43m__getitem__\u001b[39;49m\u001b[43m(\u001b[49m\u001b[43mkey\u001b[49m\u001b[43m)\u001b[49m\n\u001b[1;32m   1475\u001b[0m     \u001b[38;5;66;03m# Custom logic to avoid waiting for pandas GH51895\u001b[39;00m\n\u001b[1;32m   1476\u001b[0m     \u001b[38;5;66;03m# result is not geometry dtype for multi-indexes\u001b[39;00m\n\u001b[1;32m   1477\u001b[0m     \u001b[38;5;28;01mif\u001b[39;00m (\n\u001b[1;32m   1478\u001b[0m         pd\u001b[38;5;241m.\u001b[39mapi\u001b[38;5;241m.\u001b[39mtypes\u001b[38;5;241m.\u001b[39mis_scalar(key)\n\u001b[1;32m   1479\u001b[0m         \u001b[38;5;129;01mand\u001b[39;00m key \u001b[38;5;241m==\u001b[39m \u001b[38;5;124m\"\u001b[39m\u001b[38;5;124m\"\u001b[39m\n\u001b[0;32m   (...)\u001b[0m\n\u001b[1;32m   1482\u001b[0m         \u001b[38;5;129;01mand\u001b[39;00m \u001b[38;5;129;01mnot\u001b[39;00m is_geometry_type(result)\n\u001b[1;32m   1483\u001b[0m     ):\n",
      "File \u001b[0;32m/Applications/Anaconda/anaconda3/envs/gis/lib/python3.10/site-packages/pandas/core/frame.py:3896\u001b[0m, in \u001b[0;36mDataFrame.__getitem__\u001b[0;34m(self, key)\u001b[0m\n\u001b[1;32m   3894\u001b[0m \u001b[38;5;28;01mif\u001b[39;00m \u001b[38;5;28mself\u001b[39m\u001b[38;5;241m.\u001b[39mcolumns\u001b[38;5;241m.\u001b[39mnlevels \u001b[38;5;241m>\u001b[39m \u001b[38;5;241m1\u001b[39m:\n\u001b[1;32m   3895\u001b[0m     \u001b[38;5;28;01mreturn\u001b[39;00m \u001b[38;5;28mself\u001b[39m\u001b[38;5;241m.\u001b[39m_getitem_multilevel(key)\n\u001b[0;32m-> 3896\u001b[0m indexer \u001b[38;5;241m=\u001b[39m \u001b[38;5;28;43mself\u001b[39;49m\u001b[38;5;241;43m.\u001b[39;49m\u001b[43mcolumns\u001b[49m\u001b[38;5;241;43m.\u001b[39;49m\u001b[43mget_loc\u001b[49m\u001b[43m(\u001b[49m\u001b[43mkey\u001b[49m\u001b[43m)\u001b[49m\n\u001b[1;32m   3897\u001b[0m \u001b[38;5;28;01mif\u001b[39;00m is_integer(indexer):\n\u001b[1;32m   3898\u001b[0m     indexer \u001b[38;5;241m=\u001b[39m [indexer]\n",
      "File \u001b[0;32m/Applications/Anaconda/anaconda3/envs/gis/lib/python3.10/site-packages/pandas/core/indexes/base.py:3797\u001b[0m, in \u001b[0;36mIndex.get_loc\u001b[0;34m(self, key)\u001b[0m\n\u001b[1;32m   3792\u001b[0m     \u001b[38;5;28;01mif\u001b[39;00m \u001b[38;5;28misinstance\u001b[39m(casted_key, \u001b[38;5;28mslice\u001b[39m) \u001b[38;5;129;01mor\u001b[39;00m (\n\u001b[1;32m   3793\u001b[0m         \u001b[38;5;28misinstance\u001b[39m(casted_key, abc\u001b[38;5;241m.\u001b[39mIterable)\n\u001b[1;32m   3794\u001b[0m         \u001b[38;5;129;01mand\u001b[39;00m \u001b[38;5;28many\u001b[39m(\u001b[38;5;28misinstance\u001b[39m(x, \u001b[38;5;28mslice\u001b[39m) \u001b[38;5;28;01mfor\u001b[39;00m x \u001b[38;5;129;01min\u001b[39;00m casted_key)\n\u001b[1;32m   3795\u001b[0m     ):\n\u001b[1;32m   3796\u001b[0m         \u001b[38;5;28;01mraise\u001b[39;00m InvalidIndexError(key)\n\u001b[0;32m-> 3797\u001b[0m     \u001b[38;5;28;01mraise\u001b[39;00m \u001b[38;5;167;01mKeyError\u001b[39;00m(key) \u001b[38;5;28;01mfrom\u001b[39;00m \u001b[38;5;21;01merr\u001b[39;00m\n\u001b[1;32m   3798\u001b[0m \u001b[38;5;28;01mexcept\u001b[39;00m \u001b[38;5;167;01mTypeError\u001b[39;00m:\n\u001b[1;32m   3799\u001b[0m     \u001b[38;5;66;03m# If we have a listlike key, _check_indexing_error will raise\u001b[39;00m\n\u001b[1;32m   3800\u001b[0m     \u001b[38;5;66;03m#  InvalidIndexError. Otherwise we fall through and re-raise\u001b[39;00m\n\u001b[1;32m   3801\u001b[0m     \u001b[38;5;66;03m#  the TypeError.\u001b[39;00m\n\u001b[1;32m   3802\u001b[0m     \u001b[38;5;28mself\u001b[39m\u001b[38;5;241m.\u001b[39m_check_indexing_error(key)\n",
      "\u001b[0;31mKeyError\u001b[0m: 'DN'"
     ]
    },
    {
     "data": {
      "image/png": "[encoded data removed]",
      "text/plain": [
       "<Figure size 2000x700 with 1 Axes>"
      ]
     },
     "metadata": {},
     "output_type": "display_data"
    }
   ],
   "source": [
    "f,ax=plt.subplots(1,1,figsize=(20,7))\n",
    "gdf.plot(column='e',ax=ax,cmap='terrain')"
   ]
  },
  {
   "cell_type": "code",
   "execution_count": null,
   "id": "87775d38-35b5-4d91-999e-cc362da6c1c6",
   "metadata": {},
   "outputs": [],
   "source": []
  }
 ],
 "metadata": {
  "kernelspec": {
   "display_name": "gis",
   "language": "python",
   "name": "gis"
  },
  "language_info": {
   "codemirror_mode": {
    "name": "ipython",
    "version": 3
   },
   "file_extension": ".py",
   "mimetype": "text/x-python",
   "name": "python",
   "nbconvert_exporter": "python",
   "pygments_lexer": "ipython3",
   "version": "3.10.8"
  }
 },
 "nbformat": 4,
 "nbformat_minor": 5
}
